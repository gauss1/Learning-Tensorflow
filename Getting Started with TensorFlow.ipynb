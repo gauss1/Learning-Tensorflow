{
 "cells": [
  {
   "cell_type": "markdown",
   "metadata": {},
   "source": [
    "Link: https://www.tensorflow.org/get_started/get_started"
   ]
  },
  {
   "cell_type": "code",
   "execution_count": 2,
   "metadata": {
    "collapsed": true
   },
   "outputs": [],
   "source": [
    "import tensorflow as tf"
   ]
  },
  {
   "cell_type": "code",
   "execution_count": 3,
   "metadata": {},
   "outputs": [
    {
     "name": "stdout",
     "output_type": "stream",
     "text": [
      "Tensor(\"Const:0\", shape=(), dtype=float32) Tensor(\"Const_1:0\", shape=(), dtype=float32)\n"
     ]
    }
   ],
   "source": [
    "node1 = tf.constant(3.0, dtype=tf.float32)\n",
    "node2 = tf.constant(4.0) # also tf.float32 implicitly\n",
    "print(node1, node2)"
   ]
  },
  {
   "cell_type": "code",
   "execution_count": 4,
   "metadata": {},
   "outputs": [
    {
     "name": "stdout",
     "output_type": "stream",
     "text": [
      "[3.0, 4.0]\n"
     ]
    }
   ],
   "source": [
    "sess = tf.Session()\n",
    "print(sess.run([node1, node2]))"
   ]
  },
  {
   "cell_type": "code",
   "execution_count": 6,
   "metadata": {},
   "outputs": [
    {
     "name": "stdout",
     "output_type": "stream",
     "text": [
      "node3:  Tensor(\"Mul_1:0\", shape=(), dtype=float32)\n",
      "node4:  Tensor(\"Exp:0\", shape=(), dtype=float32)\n",
      "sess.run(node3):  12.0\n",
      "sess.run(node4):  162755.0\n"
     ]
    }
   ],
   "source": [
    "#Basic arithmetic\n",
    "node3 = tf.multiply(node1,node2)\n",
    "node4 = tf.exp(node3)\n",
    "print(\"node3: \", node3)\n",
    "print(\"node4: \", node4)\n",
    "print(\"sess.run(node3): \",sess.run(node3))\n",
    "print(\"sess.run(node4): \",sess.run(node4))"
   ]
  },
  {
   "cell_type": "code",
   "execution_count": 14,
   "metadata": {},
   "outputs": [
    {
     "data": {
      "text/plain": [
       "27.0"
      ]
     },
     "execution_count": 14,
     "metadata": {},
     "output_type": "execute_result"
    }
   ],
   "source": [
    "#Placeholders\n",
    "a = tf.placeholder(tf.float32)\n",
    "b = tf.placeholder(tf.float32)\n",
    "power_node = a ** b\n",
    "sess.run(power_node, {a: 3, b:3})"
   ]
  },
  {
   "cell_type": "markdown",
   "metadata": {},
   "source": [
    "**Placeholders** are parameters that you pass to the model. **Variables** are internal trainable parameters within the computational graph."
   ]
  },
  {
   "cell_type": "code",
   "execution_count": 15,
   "metadata": {},
   "outputs": [
    {
     "data": {
      "text/plain": [
       "array([ 0.        ,  0.30000001,  0.60000002,  0.90000004], dtype=float32)"
      ]
     },
     "execution_count": 15,
     "metadata": {},
     "output_type": "execute_result"
    }
   ],
   "source": [
    "#Variables\n",
    "W = tf.Variable([.3], dtype=tf.float32)\n",
    "b = tf.Variable([-.3], dtype=tf.float32)\n",
    "x = tf.placeholder(tf.float32)\n",
    "linear_model = W * x + b\n",
    "#Initialization\n",
    "init = tf.global_variables_initializer()\n",
    "sess.run(init)\n",
    "#We can evaluate linear_model for several values of x simultaneously\n",
    "sess.run(linear_model, {x:range(1,5)})"
   ]
  },
  {
   "cell_type": "code",
   "execution_count": 22,
   "metadata": {},
   "outputs": [
    {
     "name": "stdout",
     "output_type": "stream",
     "text": [
      "23.66\n"
     ]
    }
   ],
   "source": [
    "#Loss function\n",
    "y = tf.placeholder(tf.float32)\n",
    "squared_deltas = tf.square(linear_model - y)\n",
    "loss = tf.reduce_sum(squared_deltas)\n",
    "print(sess.run(loss, {x:range(1,5), y:list(reversed(range(-3,1)))}))"
   ]
  },
  {
   "cell_type": "code",
   "execution_count": 24,
   "metadata": {},
   "outputs": [
    {
     "name": "stdout",
     "output_type": "stream",
     "text": [
      "0.0\n"
     ]
    }
   ],
   "source": [
    "#Assigning values to the variables\n",
    "fixW = tf.assign(W, [-1.])\n",
    "fixb = tf.assign(b, [1.])\n",
    "sess.run([fixW, fixb])\n",
    "print(sess.run(loss, {x:[1,2,3,4], y:[0,-1,-2,-3]}))"
   ]
  },
  {
   "cell_type": "code",
   "execution_count": 30,
   "metadata": {},
   "outputs": [
    {
     "data": {
      "text/plain": [
       "[array([-0.9999969], dtype=float32), array([ 0.99999082], dtype=float32)]"
      ]
     },
     "execution_count": 30,
     "metadata": {},
     "output_type": "execute_result"
    }
   ],
   "source": [
    "#Optimizing the parameters\n",
    "optimizer = tf.train.GradientDescentOptimizer(0.01)\n",
    "train = optimizer.minimize(loss)\n",
    "\n",
    "sess.run(init) # reset values to incorrect defaults.\n",
    "for i in range(1000):\n",
    "  sess.run(train, {x:[1,2,3,4], y:[0,-1,-2,-3]})\n",
    "\n",
    "sess.run([W, b])"
   ]
  },
  {
   "cell_type": "code",
   "execution_count": 37,
   "metadata": {},
   "outputs": [
    {
     "name": "stdout",
     "output_type": "stream",
     "text": [
      "INFO:tensorflow:Using default config.\n",
      "WARNING:tensorflow:Using temporary folder as model directory: C:\\Users\\Tobias\\AppData\\Local\\Temp\\tmpq8l592ae\n",
      "INFO:tensorflow:Using config: {'_num_ps_replicas': 0, '_evaluation_master': '', '_save_checkpoints_secs': 600, '_model_dir': 'C:\\\\Users\\\\Tobias\\\\AppData\\\\Local\\\\Temp\\\\tmpq8l592ae', '_cluster_spec': <tensorflow.python.training.server_lib.ClusterSpec object at 0x000000000C803240>, '_keep_checkpoint_every_n_hours': 10000, '_is_chief': True, '_save_checkpoints_steps': None, '_num_worker_replicas': 0, '_tf_random_seed': None, '_keep_checkpoint_max': 5, '_environment': 'local', '_save_summary_steps': 100, '_task_id': 0, '_tf_config': gpu_options {\n",
      "  per_process_gpu_memory_fraction: 1\n",
      "}\n",
      ", '_task_type': None, '_session_config': None, '_master': ''}\n",
      "WARNING:tensorflow:From C:\\Users\\Tobias\\Anaconda3\\envs\\tensorflow\\lib\\site-packages\\tensorflow\\contrib\\learn\\python\\learn\\estimators\\head.py:625: scalar_summary (from tensorflow.python.ops.logging_ops) is deprecated and will be removed after 2016-11-30.\n",
      "Instructions for updating:\n",
      "Please switch to tf.summary.scalar. Note that tf.summary.scalar uses the node name instead of the tag. This means that TensorFlow will automatically de-duplicate summary names based on the scope they are created in. Also, passing a tensor or list of tags to a scalar summary op is no longer supported.\n",
      "INFO:tensorflow:Create CheckpointSaverHook.\n",
      "INFO:tensorflow:Saving checkpoints for 1 into C:\\Users\\Tobias\\AppData\\Local\\Temp\\tmpq8l592ae\\model.ckpt.\n",
      "INFO:tensorflow:loss = 4.25, step = 1\n",
      "INFO:tensorflow:global_step/sec: 1336.9\n",
      "INFO:tensorflow:loss = 0.0422265, step = 101 (0.075 sec)\n",
      "INFO:tensorflow:global_step/sec: 1347.71\n",
      "INFO:tensorflow:loss = 0.0200188, step = 201 (0.075 sec)\n",
      "INFO:tensorflow:global_step/sec: 1587.3\n",
      "INFO:tensorflow:loss = 0.00377247, step = 301 (0.063 sec)\n",
      "INFO:tensorflow:global_step/sec: 1587.3\n",
      "INFO:tensorflow:loss = 0.000399544, step = 401 (0.064 sec)\n",
      "INFO:tensorflow:global_step/sec: 1785.71\n",
      "INFO:tensorflow:loss = 0.000428888, step = 501 (0.056 sec)\n",
      "INFO:tensorflow:global_step/sec: 1538.46\n",
      "INFO:tensorflow:loss = 5.87662e-05, step = 601 (0.064 sec)\n",
      "INFO:tensorflow:global_step/sec: 1428.57\n",
      "INFO:tensorflow:loss = 3.36102e-05, step = 701 (0.071 sec)\n",
      "INFO:tensorflow:global_step/sec: 1587.3\n",
      "INFO:tensorflow:loss = 8.30253e-06, step = 801 (0.062 sec)\n",
      "INFO:tensorflow:global_step/sec: 2083.33\n",
      "INFO:tensorflow:loss = 1.60739e-06, step = 901 (0.048 sec)\n",
      "INFO:tensorflow:Saving checkpoints for 1000 into C:\\Users\\Tobias\\AppData\\Local\\Temp\\tmpq8l592ae\\model.ckpt.\n",
      "INFO:tensorflow:Loss for final step: 3.47173e-07.\n",
      "WARNING:tensorflow:From C:\\Users\\Tobias\\Anaconda3\\envs\\tensorflow\\lib\\site-packages\\tensorflow\\contrib\\learn\\python\\learn\\estimators\\head.py:625: scalar_summary (from tensorflow.python.ops.logging_ops) is deprecated and will be removed after 2016-11-30.\n",
      "Instructions for updating:\n",
      "Please switch to tf.summary.scalar. Note that tf.summary.scalar uses the node name instead of the tag. This means that TensorFlow will automatically de-duplicate summary names based on the scope they are created in. Also, passing a tensor or list of tags to a scalar summary op is no longer supported.\n",
      "INFO:tensorflow:Starting evaluation at 2017-06-29-08:57:37\n",
      "INFO:tensorflow:Restoring parameters from C:\\Users\\Tobias\\AppData\\Local\\Temp\\tmpq8l592ae\\model.ckpt-1000\n",
      "INFO:tensorflow:Finished evaluation at 2017-06-29-08:57:37\n",
      "INFO:tensorflow:Saving dict for global step 1000: global_step = 1000, loss = 2.52445e-07\n",
      "WARNING:tensorflow:From C:\\Users\\Tobias\\Anaconda3\\envs\\tensorflow\\lib\\site-packages\\tensorflow\\contrib\\learn\\python\\learn\\estimators\\head.py:625: scalar_summary (from tensorflow.python.ops.logging_ops) is deprecated and will be removed after 2016-11-30.\n",
      "Instructions for updating:\n",
      "Please switch to tf.summary.scalar. Note that tf.summary.scalar uses the node name instead of the tag. This means that TensorFlow will automatically de-duplicate summary names based on the scope they are created in. Also, passing a tensor or list of tags to a scalar summary op is no longer supported.\n",
      "INFO:tensorflow:Starting evaluation at 2017-06-29-08:57:37\n",
      "INFO:tensorflow:Restoring parameters from C:\\Users\\Tobias\\AppData\\Local\\Temp\\tmpq8l592ae\\model.ckpt-1000\n",
      "INFO:tensorflow:Finished evaluation at 2017-06-29-08:57:38\n",
      "INFO:tensorflow:Saving dict for global step 1000: global_step = 1000, loss = 0.00256943\n",
      "train loss: {'global_step': 1000, 'loss': 2.5244549e-07}\n",
      "eval loss: {'global_step': 1000, 'loss': 0.0025694328}\n"
     ]
    }
   ],
   "source": [
    "#Using tf.contrib.learn\n",
    "import tensorflow as tf\n",
    "import numpy as np\n",
    "\n",
    "features = [tf.contrib.layers.real_valued_column(\"x\")]\n",
    "\n",
    "estimator = tf.contrib.learn.LinearRegressor(feature_columns=features)\n",
    "\n",
    "x_train = np.array([1., 2., 3., 4.])\n",
    "y_train = np.array([0., -1., -2., -3.])\n",
    "x_eval = np.array([2., 5., 8., 1.])\n",
    "y_eval = np.array([-1.01, -4.1, -7, 0.])\n",
    "input_fn = tf.contrib.learn.io.numpy_input_fn({\"x\":x_train}, y_train,\n",
    "                                              batch_size=4,\n",
    "                                              num_epochs=1000)\n",
    "eval_input_fn = tf.contrib.learn.io.numpy_input_fn(\n",
    "    {\"x\":x_eval}, y_eval, batch_size=4, num_epochs=1000)\n",
    "\n",
    "estimator.fit(input_fn = input_fn, steps=1000)\n",
    "\n",
    "train_loss = estimator.evaluate(input_fn=input_fn)\n",
    "eval_loss = estimator.evaluate(input_fn=eval_input_fn)\n",
    "print(\"train loss: %r\"% train_loss)\n",
    "print(\"eval loss: %r\"% eval_loss)"
   ]
  },
  {
   "cell_type": "code",
   "execution_count": 39,
   "metadata": {},
   "outputs": [
    {
     "name": "stdout",
     "output_type": "stream",
     "text": [
      "INFO:tensorflow:Using default config.\n",
      "WARNING:tensorflow:Using temporary folder as model directory: C:\\Users\\Tobias\\AppData\\Local\\Temp\\tmp56cgkj85\n",
      "INFO:tensorflow:Using config: {'_num_ps_replicas': 0, '_evaluation_master': '', '_save_checkpoints_secs': 600, '_model_dir': 'C:\\\\Users\\\\Tobias\\\\AppData\\\\Local\\\\Temp\\\\tmp56cgkj85', '_cluster_spec': <tensorflow.python.training.server_lib.ClusterSpec object at 0x000000000CAA1198>, '_keep_checkpoint_every_n_hours': 10000, '_is_chief': True, '_save_checkpoints_steps': None, '_num_worker_replicas': 0, '_tf_random_seed': None, '_keep_checkpoint_max': 5, '_environment': 'local', '_save_summary_steps': 100, '_task_id': 0, '_tf_config': gpu_options {\n",
      "  per_process_gpu_memory_fraction: 1\n",
      "}\n",
      ", '_task_type': None, '_session_config': None, '_master': ''}\n",
      "INFO:tensorflow:Create CheckpointSaverHook.\n",
      "INFO:tensorflow:Saving checkpoints for 1 into C:\\Users\\Tobias\\AppData\\Local\\Temp\\tmp56cgkj85\\model.ckpt.\n",
      "INFO:tensorflow:loss = 105.010479952, step = 1\n",
      "INFO:tensorflow:global_step/sec: 1302.09\n",
      "INFO:tensorflow:loss = 0.131063829075, step = 101 (0.062 sec)\n",
      "INFO:tensorflow:global_step/sec: 1075.27\n",
      "INFO:tensorflow:loss = 0.0220740793177, step = 201 (0.094 sec)\n",
      "INFO:tensorflow:global_step/sec: 819.672\n",
      "INFO:tensorflow:loss = 0.00160599971662, step = 301 (0.123 sec)\n",
      "INFO:tensorflow:global_step/sec: 1176.47\n",
      "INFO:tensorflow:loss = 5.61308507674e-05, step = 401 (0.085 sec)\n",
      "INFO:tensorflow:global_step/sec: 1408.45\n",
      "INFO:tensorflow:loss = 1.26878282406e-05, step = 501 (0.069 sec)\n",
      "INFO:tensorflow:global_step/sec: 943.397\n",
      "INFO:tensorflow:loss = 8.85683598578e-07, step = 601 (0.107 sec)\n",
      "INFO:tensorflow:global_step/sec: 917.431\n",
      "INFO:tensorflow:loss = 8.26296411395e-09, step = 701 (0.115 sec)\n",
      "INFO:tensorflow:global_step/sec: 1020.41\n",
      "INFO:tensorflow:loss = 3.37325634069e-09, step = 801 (0.091 sec)\n",
      "INFO:tensorflow:global_step/sec: 1851.85\n",
      "INFO:tensorflow:loss = 2.19127844256e-10, step = 901 (0.055 sec)\n",
      "INFO:tensorflow:Saving checkpoints for 1000 into C:\\Users\\Tobias\\AppData\\Local\\Temp\\tmp56cgkj85\\model.ckpt.\n",
      "INFO:tensorflow:Loss for final step: 7.31339265517e-12.\n",
      "INFO:tensorflow:Starting evaluation at 2017-06-29-09:03:09\n",
      "INFO:tensorflow:Restoring parameters from C:\\Users\\Tobias\\AppData\\Local\\Temp\\tmp56cgkj85\\model.ckpt-1000\n",
      "INFO:tensorflow:Finished evaluation at 2017-06-29-09:03:09\n",
      "INFO:tensorflow:Saving dict for global step 1000: global_step = 1000, loss = 3.18459e-11\n",
      "INFO:tensorflow:Starting evaluation at 2017-06-29-09:03:10\n",
      "INFO:tensorflow:Restoring parameters from C:\\Users\\Tobias\\AppData\\Local\\Temp\\tmp56cgkj85\\model.ckpt-1000\n",
      "INFO:tensorflow:Finished evaluation at 2017-06-29-09:03:10\n",
      "INFO:tensorflow:Saving dict for global step 1000: global_step = 1000, loss = 0.0101005\n",
      "train loss: {'global_step': 1000, 'loss': 3.1845891e-11}\n",
      "eval loss: {'global_step': 1000, 'loss': 0.010100457}\n"
     ]
    }
   ],
   "source": [
    "#Custom models with tf.contrib.learn\n",
    "import numpy as np\n",
    "import tensorflow as tf\n",
    "# Declare list of features, we only have one real-valued feature\n",
    "def model(features, labels, mode):\n",
    "  # Build a linear model and predict values\n",
    "  W = tf.get_variable(\"W\", [1], dtype=tf.float64)\n",
    "  b = tf.get_variable(\"b\", [1], dtype=tf.float64)\n",
    "  y = W*features['x'] + b\n",
    "  # Loss sub-graph\n",
    "  loss = tf.reduce_sum(tf.square(y - labels))\n",
    "  # Training sub-graph\n",
    "  global_step = tf.train.get_global_step()\n",
    "  optimizer = tf.train.GradientDescentOptimizer(0.01)\n",
    "  train = tf.group(optimizer.minimize(loss),\n",
    "                   tf.assign_add(global_step, 1))\n",
    "  # ModelFnOps connects subgraphs we built to the\n",
    "  # appropriate functionality.\n",
    "  return tf.contrib.learn.ModelFnOps(\n",
    "      mode=mode, predictions=y,\n",
    "      loss=loss,\n",
    "      train_op=train)\n",
    "\n",
    "estimator = tf.contrib.learn.Estimator(model_fn=model)\n",
    "# define our data sets\n",
    "x_train = np.array([1., 2., 3., 4.])\n",
    "y_train = np.array([0., -1., -2., -3.])\n",
    "x_eval = np.array([2., 5., 8., 1.])\n",
    "y_eval = np.array([-1.01, -4.1, -7, 0.])\n",
    "input_fn = tf.contrib.learn.io.numpy_input_fn({\"x\": x_train}, y_train, 4, num_epochs=1000)\n",
    "\n",
    "# train\n",
    "estimator.fit(input_fn=input_fn, steps=1000)\n",
    "# Here we evaluate how well our model did. \n",
    "train_loss = estimator.evaluate(input_fn=input_fn)\n",
    "eval_loss = estimator.evaluate(input_fn=eval_input_fn)\n",
    "print(\"train loss: %r\"% train_loss)\n",
    "print(\"eval loss: %r\"% eval_loss)"
   ]
  }
 ],
 "metadata": {
  "kernelspec": {
   "display_name": "Python 3",
   "language": "python",
   "name": "python3"
  },
  "language_info": {
   "codemirror_mode": {
    "name": "ipython",
    "version": 3
   },
   "file_extension": ".py",
   "mimetype": "text/x-python",
   "name": "python",
   "nbconvert_exporter": "python",
   "pygments_lexer": "ipython3",
   "version": "3.5.3"
  }
 },
 "nbformat": 4,
 "nbformat_minor": 2
}
